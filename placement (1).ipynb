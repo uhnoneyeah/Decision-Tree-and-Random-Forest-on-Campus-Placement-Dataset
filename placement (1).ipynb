{
 "cells": [
  {
   "cell_type": "code",
   "execution_count": 1,
   "id": "95c9dd71-a256-46c4-a2e7-91f308877f0e",
   "metadata": {},
   "outputs": [
    {
     "name": "stdout",
     "output_type": "stream",
     "text": [
      "Accuracy of the decision tree model: 0.813953488372093\n",
      "Top features contributing to the model predictions:\n",
      "    Feature  Importance\n",
      "0     ssc_p    0.569767\n",
      "4     mba_p    0.200663\n",
      "1     hsc_p    0.169747\n",
      "2  degree_p    0.059823\n",
      "3   etest_p    0.000000\n"
     ]
    }
   ],
   "source": [
    "import pandas as pd\n",
    "from sklearn.tree import DecisionTreeClassifier\n",
    "from sklearn.model_selection import train_test_split\n",
    "from sklearn.metrics import accuracy_score\n",
    "from sklearn.preprocessing import LabelEncoder\n",
    "\n",
    "# Load the dataset\n",
    "data = pd.read_excel('C:/Users/Ananya/Downloads/recruitmentdataset.xlsx')\n",
    "\n",
    "# Fill missing values in 'salary' with the median salary\n",
    "median_salary = data['salary'].median()\n",
    "data['salary'].fillna(median_salary, inplace=True)\n",
    "\n",
    "# Selecting relevant features and target\n",
    "features = data[['ssc_p', 'hsc_p', 'degree_p', 'workex', 'etest_p', 'mba_p']]\n",
    "target = data['status']\n",
    "\n",
    "# Convert categorical data to numeric using one-hot encoding\n",
    "features = pd.get_dummies(features)\n",
    "\n",
    "# Splitting data into training and testing sets\n",
    "X_train, X_test, y_train, y_test = train_test_split(features, target, test_size=0.2, random_state=42)\n",
    "\n",
    "# Creating and training the decision tree model\n",
    "model = DecisionTreeClassifier(max_depth=5, random_state=42)\n",
    "model.fit(X_train, y_train)\n",
    "\n",
    "# Predicting and evaluating the model\n",
    "y_pred = model.predict(X_test)\n",
    "accuracy = accuracy_score(y_test, y_pred)\n",
    "print(\"Accuracy of the decision tree model:\", accuracy)\n",
    "\n",
    "# Displaying feature importance\n",
    "importance = pd.DataFrame({'Feature': features.columns, 'Importance': model.feature_importances_})\n",
    "top_features = importance.sort_values(by='Importance', ascending=False).head()\n",
    "print(\"Top features contributing to the model predictions:\")\n",
    "print(top_features)\n"
   ]
  },
  {
   "cell_type": "code",
   "execution_count": 3,
   "id": "e120a2e1-f27e-4a04-add8-b96401a60c9e",
   "metadata": {},
   "outputs": [
    {
     "name": "stdout",
     "output_type": "stream",
     "text": [
      "Accuracy of the random forest model: 0.7674418604651163\n",
      "Top features contributing to the model predictions:\n",
      "    Feature  Importance\n",
      "0     ssc_p    0.339981\n",
      "1     hsc_p    0.227594\n",
      "2  degree_p    0.207188\n",
      "4     mba_p    0.112551\n",
      "3   etest_p    0.056969\n"
     ]
    }
   ],
   "source": [
    "import pandas as pd\n",
    "from sklearn.ensemble import RandomForestClassifier\n",
    "from sklearn.model_selection import train_test_split\n",
    "from sklearn.metrics import accuracy_score\n",
    "from sklearn.preprocessing import LabelEncoder\n",
    "\n",
    "data = pd.read_excel('C:/Users/Ananya/Downloads/recruitmentdataset.xlsx')\n",
    "\n",
    "median_salary = data['salary'].median()\n",
    "data['salary'].fillna(median_salary, inplace=True)\n",
    "\n",
    "features = data[['ssc_p', 'hsc_p', 'degree_p', 'workex', 'etest_p', 'mba_p']]\n",
    "target = data['status']\n",
    "\n",
    "features = pd.get_dummies(features)\n",
    "\n",
    "X_train, X_test, y_train, y_test = train_test_split(features, target, test_size=0.2, random_state=42)\n",
    "\n",
    "model = RandomForestClassifier(n_estimators=100, max_depth=5, random_state=42)\n",
    "model.fit(X_train, y_train)\n",
    "\n",
    "y_pred = model.predict(X_test)\n",
    "accuracy = accuracy_score(y_test, y_pred)\n",
    "print(\"Accuracy of the random forest model:\", accuracy)\n",
    "\n",
    "importance = pd.DataFrame({'Feature': features.columns, 'Importance': model.feature_importances_})\n",
    "top_features = importance.sort_values(by='Importance', ascending=False).head()\n",
    "print(\"Top features contributing to the model predictions:\")\n",
    "print(top_features)\n"
   ]
  },
  {
   "cell_type": "code",
   "execution_count": null,
   "id": "ac6798f6-07ad-4403-a6e1-3b553b2a468f",
   "metadata": {},
   "outputs": [],
   "source": []
  }
 ],
 "metadata": {
  "kernelspec": {
   "display_name": "Python 3 (ipykernel)",
   "language": "python",
   "name": "python3"
  },
  "language_info": {
   "codemirror_mode": {
    "name": "ipython",
    "version": 3
   },
   "file_extension": ".py",
   "mimetype": "text/x-python",
   "name": "python",
   "nbconvert_exporter": "python",
   "pygments_lexer": "ipython3",
   "version": "3.11.7"
  }
 },
 "nbformat": 4,
 "nbformat_minor": 5
}
